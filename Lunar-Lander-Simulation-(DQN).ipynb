{
 "cells": [
  {
   "cell_type": "markdown",
   "id": "84f5638e-e732-4e4d-a539-e68d847e6d22",
   "metadata": {},
   "source": [
    "# LunarLander-v2 (Deep Q-Network)\n",
    "\n",
    "Implemented a Deep Q-Network (DQN) to solve the LunarLander-v2 problem from OpenAI Gym. This project simulates an agent learning how to land a lunar module safely using Reinforcement Learning (RL) with deep learning.\n",
    "\n",
    "## Project Aim\n",
    "\n",
    "The goal of this project is to:\n",
    "\n",
    "- Build an AI agent using Deep Q-Learning (DQN)\n",
    "\n",
    "- Train it to play the LunarLander-v2 environment from OpenAI Gym\n",
    "\n",
    "- The agent should learn to land safely by maximizing rewards over time through trial and error\n",
    "\n",
    "## What is DQN?\n",
    "\n",
    "DQN combines:\n",
    "\n",
    "- Q-Learning (an RL algorithm)\n",
    "\n",
    "- Neural Networks (to approximate the Q-function)\n",
    "\n",
    "- Experience Replay (to stabilize training)\n",
    "\n",
    "- Target Networks (to reduce overestimation and improve stability)"
   ]
  },
  {
   "cell_type": "markdown",
   "id": "775b59a1-26b1-48d3-a230-24800d93e924",
   "metadata": {},
   "source": [
    "## What is OpenAI Gym?\n",
    "\n",
    "OpenAI Gym is an open-source toolkit created by OpenAI for developing and comparing reinforcement learning (RL) algorithms. It provides:\n",
    "\n",
    "- A wide range of environments for RL agents, including classic control problems, video games, robotics simulations, and more.\n",
    "\n",
    "- A standardized interface for agents and environments, making it easy to test and benchmark RL algorithms.\n",
    "\n",
    "- Simple APIs like .reset() and .step(action) that make it beginner-friendly but also powerful for research.\n",
    "\n",
    "## What is LunarLander-v2?\n",
    "\n",
    "LunarLander-v2 is a specific environment in OpenAI Gym where the goal is to land a spacecraft safely between two flags on the surface of the moon.\n",
    "\n",
    "Environment details:\n",
    "\n",
    "- Type: Discrete Action Space (4 actions)\n",
    "\n",
    "- State Space: 8 continuous values representing the lander's position, velocity, angle, and leg contact.\n",
    "\n",
    "- Action Space:\n",
    "\n",
    "    - 0: Do nothing\n",
    "\n",
    "    - 1: Fire left orientation engine\n",
    "\n",
    "    - 2: Fire main engine\n",
    "\n",
    "    - 3: Fire right orientation engine\n",
    "\n",
    "Reward structure:\n",
    "\n",
    "- +100 to +140 for a successful landing.\n",
    "\n",
    "- -100 or more for crashing.\n",
    "\n",
    "- -0.3 for firing a thruster (to encourage efficiency).\n",
    "\n",
    "- +10 for each leg that touches the ground.\n",
    "\n",
    "Goal:\n",
    "\n",
    "Train an agent (neural network) to control the lander using only these actions and maximize cumulative reward."
   ]
  },
  {
   "cell_type": "markdown",
   "id": "f9b79805-470f-4416-962d-07cca09997ef",
   "metadata": {},
   "source": [
    "## Imports and Envirnment\n",
    "\n",
    "- Initializes the LunarLander environment with human-readable rendering.\n",
    "\n",
    "- observation_space.shape[0]: Number of input values (state size)\n",
    "\n",
    "- action_space.n: Number of discrete actions (4: do nothing, fire left/right engines, fire main engine)"
   ]
  },
  {
   "cell_type": "code",
   "execution_count": 39,
   "id": "a2a04b88-44d2-4d43-935b-f784a70c86a8",
   "metadata": {},
   "outputs": [
    {
     "name": "stdout",
     "output_type": "stream",
     "text": [
      "State size: 8\n",
      "Action size: 4\n"
     ]
    }
   ],
   "source": [
    "# Imports & Env Setup\n",
    "import gym\n",
    "import numpy as np\n",
    "import random\n",
    "import torch\n",
    "import torch.nn as nn\n",
    "import torch.optim as optim\n",
    "from collections import deque\n",
    "import matplotlib.pyplot as plt\n",
    "from tqdm import tqdm\n",
    "\n",
    "# env = gym.make(\"LunarLander-v2\", render_mode=\"human\")\n",
    "env = gym.make(\"LunarLander-v2\")\n",
    "\n",
    "print(f\"State size: {env.observation_space.shape[0]}\")\n",
    "print(f\"Action size: {env.action_space.n}\")"
   ]
  },
  {
   "cell_type": "markdown",
   "id": "5b806b04-8f0f-4cc3-ae53-240e0cc6680b",
   "metadata": {},
   "source": [
    "## Q-Network\n",
    "\n",
    "- This is the neural network used to approximate Q-values for each state-action pair.\n",
    "\n",
    "- Input: state (8 values)\n",
    "\n",
    "- Output: Q-values for 4 actions\n",
    "\n",
    "- Architecture: 2 hidden layers → ReLU → output layer"
   ]
  },
  {
   "cell_type": "code",
   "execution_count": 40,
   "id": "a91c5382-43cc-4f44-a0f8-d07e77eac73c",
   "metadata": {},
   "outputs": [],
   "source": [
    "# DEEP Q-NETWORK MODEL\n",
    "class QNetwork(nn.Module):\n",
    "    def __init__(self, state_size, action_size, hidden=64):\n",
    "        super(QNetwork, self).__init__()\n",
    "        self.fc1 = nn.Linear(state_size, hidden)\n",
    "        self.fc2 = nn.Linear(hidden, hidden)\n",
    "        self.out = nn.Linear(hidden, action_size)\n",
    "\n",
    "    def forward(self, x):\n",
    "        x = torch.relu(self.fc1(x))\n",
    "        x = torch.relu(self.fc2(x))\n",
    "        return self.out(x)"
   ]
  },
  {
   "cell_type": "markdown",
   "id": "f52c5bec-1434-45d3-84a2-8d1be04a18fe",
   "metadata": {},
   "source": [
    "## Replay Buffer\n",
    "\n",
    "- Stores past experiences (state, action, reward, next_state, done)\n",
    "\n",
    "- Used for experience replay: randomly samples past experiences for training\n",
    "\n",
    "- This breaks temporal correlation and stabilizes learning"
   ]
  },
  {
   "cell_type": "code",
   "execution_count": 41,
   "id": "daa80c30-1b2b-467b-a4c6-02de43f34b77",
   "metadata": {},
   "outputs": [],
   "source": [
    "# REPLAY BUFFER\n",
    "class ReplayBuffer:\n",
    "    def __init__(self, capacity=100000):\n",
    "        self.buffer = deque(maxlen=capacity)\n",
    "\n",
    "    def push(self, state, action, reward, next_state, done):\n",
    "        self.buffer.append((state, action, reward, next_state, done))\n",
    "\n",
    "    def sample(self, batch_size):\n",
    "        samples = random.sample(self.buffer, batch_size)\n",
    "        states, actions, rewards, next_states, dones = zip(*samples)\n",
    "        return np.array(states), actions, rewards, np.array(next_states), dones\n",
    "\n",
    "    def __len__(self):\n",
    "        return len(self.buffer)"
   ]
  },
  {
   "cell_type": "markdown",
   "id": "62dbb56f-d42e-4986-964b-3afce6b1835c",
   "metadata": {},
   "source": [
    "## Hyperparameters\n",
    "\n",
    "- lr: Learning rate\n",
    "\n",
    "- batch_size: Number of samples per training step\n",
    "\n",
    "- gamma: Discount factor (future rewards)\n",
    "\n",
    "- tau: Controls soft update rate\n",
    "\n",
    "- eps: Controls exploration vs. exploitation (epsilon-greedy strategy)\n",
    "\n",
    "## epsilon calculation\n",
    "\n",
    "epsilon = eps_end + (eps_start - eps_end) * (eps_decay ** episode)\n",
    "\n",
    "0.1 = 0.01 + 0.99 * (0.999 ^ episode)\n",
    "\n",
    "→ (0.1 - 0.01)/0.99 = 0.999 ^ episode\n",
    "\n",
    "→ 0.0909 ≈ 0.999 ^ episode\n",
    "\n",
    "→ log(0.0909) / log(0.999) ≈ episode\n",
    "\n",
    "→ episode ≈ 2400"
   ]
  },
  {
   "cell_type": "code",
   "execution_count": 42,
   "id": "2e35259f-ab62-4313-a8d8-2631a413944d",
   "metadata": {},
   "outputs": [],
   "source": [
    "# HYPERPARAMETERS\n",
    "state_size = env.observation_space.shape[0]\n",
    "action_size = env.action_space.n\n",
    "\n",
    "lr = 1e-4\n",
    "batch_size = 64\n",
    "gamma = 0.99\n",
    "tau = 1e-3  # For soft update\n",
    "eps_start = 1.0\n",
    "eps_end = 0.01\n",
    "eps_decay = 0.999\n",
    "buffer = ReplayBuffer()\n",
    "# episodes = 1000\n",
    "episodes = 2400"
   ]
  },
  {
   "cell_type": "markdown",
   "id": "15555928-000d-4e3a-a0c5-333ba8bdb413",
   "metadata": {},
   "source": [
    "## Agent Setup\n",
    "\n",
    "- q_net: Learns the Q-function\n",
    "\n",
    "- target_net: Stabilizes learning (lagging behind q_net)\n",
    "\n",
    "- soft_update: Slowly copies q_net weights to target_net every step"
   ]
  },
  {
   "cell_type": "code",
   "execution_count": 43,
   "id": "018f46d6-023f-4228-8535-c3b4e03a9588",
   "metadata": {},
   "outputs": [],
   "source": [
    "# DQN AGENT SETUP\n",
    "device = torch.device(\"cuda\" if torch.cuda.is_available() else \"cpu\")\n",
    "q_net = QNetwork(state_size, action_size).to(device)\n",
    "target_net = QNetwork(state_size, action_size).to(device)\n",
    "target_net.load_state_dict(q_net.state_dict())\n",
    "\n",
    "optimizer = optim.Adam(q_net.parameters(), lr=lr)\n",
    "\n",
    "def soft_update(local, target, tau):\n",
    "    for target_param, local_param in zip(target.parameters(), local.parameters()):\n",
    "        target_param.data.copy_(tau * local_param.data + (1.0 - tau) * target_param.data)"
   ]
  },
  {
   "cell_type": "markdown",
   "id": "0ba2ef3f-aab8-4fc0-8681-f8b80e61e023",
   "metadata": {},
   "source": [
    "## Training Loop\n",
    "\n",
    "For each episode:\n",
    "\n",
    "   1. Reset environment: get initial state\n",
    "\n",
    "   2. Choose an action:\n",
    "\n",
    "      - With probability eps, take random action (exploration)\n",
    "\n",
    "      - Else, use q_net to choose best action (exploitation)\n",
    "\n",
    "   3. Take action in environment → get (next_state, reward, done)\n",
    "\n",
    "   4. Store transition in replay buffer\n",
    "\n",
    "   5. If buffer has enough samples:\n",
    "\n",
    "      - Sample a batch\n",
    "\n",
    "      - Calculate target Q-values using target_net\n",
    "\n",
    "      - Compute loss (MSE between predicted and target Q-values)\n",
    "\n",
    "      - Backpropagate loss to update q_net\n",
    "\n",
    "      - Soft-update target network\n",
    "\n",
    "   6. Decay epsilon over time"
   ]
  },
  {
   "cell_type": "code",
   "execution_count": 44,
   "id": "cf519308-24c8-4fa4-ad53-a40c56ac3358",
   "metadata": {
    "scrolled": true
   },
   "outputs": [
    {
     "name": "stderr",
     "output_type": "stream",
     "text": [
      "  2%|█▋                                                                              | 50/2400 [00:05<05:12,  7.53it/s]"
     ]
    },
    {
     "name": "stdout",
     "output_type": "stream",
     "text": [
      "Episode 50, Avg Reward: -95.33, Epsilon: 0.95\n"
     ]
    },
    {
     "name": "stderr",
     "output_type": "stream",
     "text": [
      "  4%|███▎                                                                           | 101/2400 [00:14<05:42,  6.72it/s]"
     ]
    },
    {
     "name": "stdout",
     "output_type": "stream",
     "text": [
      "Episode 100, Avg Reward: -72.79, Epsilon: 0.90\n"
     ]
    },
    {
     "name": "stderr",
     "output_type": "stream",
     "text": [
      "  6%|████▉                                                                          | 151/2400 [00:22<05:53,  6.36it/s]"
     ]
    },
    {
     "name": "stdout",
     "output_type": "stream",
     "text": [
      "Episode 150, Avg Reward: -54.89, Epsilon: 0.86\n"
     ]
    },
    {
     "name": "stderr",
     "output_type": "stream",
     "text": [
      "  8%|██████▌                                                                        | 201/2400 [00:30<05:51,  6.26it/s]"
     ]
    },
    {
     "name": "stdout",
     "output_type": "stream",
     "text": [
      "Episode 200, Avg Reward: -22.46, Epsilon: 0.82\n"
     ]
    },
    {
     "name": "stderr",
     "output_type": "stream",
     "text": [
      " 10%|████████▎                                                                      | 251/2400 [00:39<05:44,  6.23it/s]"
     ]
    },
    {
     "name": "stdout",
     "output_type": "stream",
     "text": [
      "Episode 250, Avg Reward: -16.09, Epsilon: 0.78\n"
     ]
    },
    {
     "name": "stderr",
     "output_type": "stream",
     "text": [
      " 12%|█████████▉                                                                     | 300/2400 [00:49<05:19,  6.58it/s]"
     ]
    },
    {
     "name": "stdout",
     "output_type": "stream",
     "text": [
      "Episode 300, Avg Reward: 4.69, Epsilon: 0.74\n"
     ]
    },
    {
     "name": "stderr",
     "output_type": "stream",
     "text": [
      " 15%|███████████▌                                                                   | 350/2400 [00:59<05:27,  6.25it/s]"
     ]
    },
    {
     "name": "stdout",
     "output_type": "stream",
     "text": [
      "Episode 350, Avg Reward: 22.29, Epsilon: 0.70\n"
     ]
    },
    {
     "name": "stderr",
     "output_type": "stream",
     "text": [
      " 17%|█████████████▏                                                                 | 401/2400 [01:09<06:54,  4.82it/s]"
     ]
    },
    {
     "name": "stdout",
     "output_type": "stream",
     "text": [
      "Episode 400, Avg Reward: 22.52, Epsilon: 0.67\n"
     ]
    },
    {
     "name": "stderr",
     "output_type": "stream",
     "text": [
      " 19%|██████████████▊                                                                | 451/2400 [01:18<05:57,  5.45it/s]"
     ]
    },
    {
     "name": "stdout",
     "output_type": "stream",
     "text": [
      "Episode 450, Avg Reward: 22.52, Epsilon: 0.64\n"
     ]
    },
    {
     "name": "stderr",
     "output_type": "stream",
     "text": [
      " 21%|████████████████▍                                                              | 501/2400 [01:28<06:18,  5.02it/s]"
     ]
    },
    {
     "name": "stdout",
     "output_type": "stream",
     "text": [
      "Episode 500, Avg Reward: 31.23, Epsilon: 0.61\n"
     ]
    },
    {
     "name": "stderr",
     "output_type": "stream",
     "text": [
      " 23%|██████████████████▏                                                            | 551/2400 [01:38<05:11,  5.93it/s]"
     ]
    },
    {
     "name": "stdout",
     "output_type": "stream",
     "text": [
      "Episode 550, Avg Reward: 38.43, Epsilon: 0.58\n"
     ]
    },
    {
     "name": "stderr",
     "output_type": "stream",
     "text": [
      " 25%|███████████████████▊                                                           | 601/2400 [01:49<05:45,  5.21it/s]"
     ]
    },
    {
     "name": "stdout",
     "output_type": "stream",
     "text": [
      "Episode 600, Avg Reward: 17.66, Epsilon: 0.55\n"
     ]
    },
    {
     "name": "stderr",
     "output_type": "stream",
     "text": [
      " 27%|█████████████████████▍                                                         | 650/2400 [02:03<07:54,  3.69it/s]"
     ]
    },
    {
     "name": "stdout",
     "output_type": "stream",
     "text": [
      "Episode 650, Avg Reward: 37.97, Epsilon: 0.52\n"
     ]
    },
    {
     "name": "stderr",
     "output_type": "stream",
     "text": [
      " 29%|███████████████████████                                                        | 701/2400 [02:19<14:22,  1.97it/s]"
     ]
    },
    {
     "name": "stdout",
     "output_type": "stream",
     "text": [
      "Episode 700, Avg Reward: 31.91, Epsilon: 0.50\n"
     ]
    },
    {
     "name": "stderr",
     "output_type": "stream",
     "text": [
      " 31%|████████████████████████▋                                                      | 750/2400 [02:41<17:24,  1.58it/s]"
     ]
    },
    {
     "name": "stdout",
     "output_type": "stream",
     "text": [
      "Episode 750, Avg Reward: 39.55, Epsilon: 0.47\n"
     ]
    },
    {
     "name": "stderr",
     "output_type": "stream",
     "text": [
      " 33%|██████████████████████████▎                                                    | 801/2400 [03:06<09:31,  2.80it/s]"
     ]
    },
    {
     "name": "stdout",
     "output_type": "stream",
     "text": [
      "Episode 800, Avg Reward: 49.05, Epsilon: 0.45\n"
     ]
    },
    {
     "name": "stderr",
     "output_type": "stream",
     "text": [
      " 35%|███████████████████████████▉                                                   | 850/2400 [03:43<16:45,  1.54it/s]"
     ]
    },
    {
     "name": "stdout",
     "output_type": "stream",
     "text": [
      "Episode 850, Avg Reward: 43.75, Epsilon: 0.43\n"
     ]
    },
    {
     "name": "stderr",
     "output_type": "stream",
     "text": [
      " 38%|█████████████████████████████▋                                                 | 901/2400 [04:36<36:56,  1.48s/it]"
     ]
    },
    {
     "name": "stdout",
     "output_type": "stream",
     "text": [
      "Episode 900, Avg Reward: 51.89, Epsilon: 0.41\n"
     ]
    },
    {
     "name": "stderr",
     "output_type": "stream",
     "text": [
      " 40%|███████████████████████████████▎                                               | 950/2400 [05:34<41:11,  1.70s/it]"
     ]
    },
    {
     "name": "stdout",
     "output_type": "stream",
     "text": [
      "Episode 950, Avg Reward: 32.82, Epsilon: 0.39\n"
     ]
    },
    {
     "name": "stderr",
     "output_type": "stream",
     "text": [
      " 42%|████████████████████████████████▌                                             | 1000/2400 [06:48<39:47,  1.71s/it]"
     ]
    },
    {
     "name": "stdout",
     "output_type": "stream",
     "text": [
      "Episode 1000, Avg Reward: 53.57, Epsilon: 0.37\n"
     ]
    },
    {
     "name": "stderr",
     "output_type": "stream",
     "text": [
      " 44%|██████████████████████████████████▏                                           | 1050/2400 [07:47<27:12,  1.21s/it]"
     ]
    },
    {
     "name": "stdout",
     "output_type": "stream",
     "text": [
      "Episode 1050, Avg Reward: 41.55, Epsilon: 0.35\n"
     ]
    },
    {
     "name": "stderr",
     "output_type": "stream",
     "text": [
      " 46%|███████████████████████████████████▊                                          | 1100/2400 [08:52<20:58,  1.03it/s]"
     ]
    },
    {
     "name": "stdout",
     "output_type": "stream",
     "text": [
      "Episode 1100, Avg Reward: 103.22, Epsilon: 0.33\n"
     ]
    },
    {
     "name": "stderr",
     "output_type": "stream",
     "text": [
      " 48%|█████████████████████████████████████▍                                        | 1150/2400 [09:46<44:30,  2.14s/it]"
     ]
    },
    {
     "name": "stdout",
     "output_type": "stream",
     "text": [
      "Episode 1150, Avg Reward: 104.19, Epsilon: 0.32\n"
     ]
    },
    {
     "name": "stderr",
     "output_type": "stream",
     "text": [
      " 50%|███████████████████████████████████████                                       | 1200/2400 [10:37<21:47,  1.09s/it]"
     ]
    },
    {
     "name": "stdout",
     "output_type": "stream",
     "text": [
      "Episode 1200, Avg Reward: 108.91, Epsilon: 0.30\n"
     ]
    },
    {
     "name": "stderr",
     "output_type": "stream",
     "text": [
      " 52%|████████████████████████████████████████▋                                     | 1250/2400 [11:49<28:22,  1.48s/it]"
     ]
    },
    {
     "name": "stdout",
     "output_type": "stream",
     "text": [
      "Episode 1250, Avg Reward: 124.78, Epsilon: 0.29\n"
     ]
    },
    {
     "name": "stderr",
     "output_type": "stream",
     "text": [
      " 54%|██████████████████████████████████████████▎                                   | 1300/2400 [12:46<26:37,  1.45s/it]"
     ]
    },
    {
     "name": "stdout",
     "output_type": "stream",
     "text": [
      "Episode 1300, Avg Reward: 124.43, Epsilon: 0.27\n"
     ]
    },
    {
     "name": "stderr",
     "output_type": "stream",
     "text": [
      " 56%|███████████████████████████████████████████▉                                  | 1351/2400 [14:10<23:51,  1.36s/it]"
     ]
    },
    {
     "name": "stdout",
     "output_type": "stream",
     "text": [
      "Episode 1350, Avg Reward: 144.65, Epsilon: 0.26\n"
     ]
    },
    {
     "name": "stderr",
     "output_type": "stream",
     "text": [
      " 58%|█████████████████████████████████████████████▌                                | 1400/2400 [15:29<29:11,  1.75s/it]"
     ]
    },
    {
     "name": "stdout",
     "output_type": "stream",
     "text": [
      "Episode 1400, Avg Reward: 125.71, Epsilon: 0.25\n"
     ]
    },
    {
     "name": "stderr",
     "output_type": "stream",
     "text": [
      " 60%|███████████████████████████████████████████████▏                              | 1450/2400 [16:24<09:43,  1.63it/s]"
     ]
    },
    {
     "name": "stdout",
     "output_type": "stream",
     "text": [
      "Episode 1450, Avg Reward: 136.07, Epsilon: 0.23\n"
     ]
    },
    {
     "name": "stderr",
     "output_type": "stream",
     "text": [
      " 62%|████████████████████████████████████████████████▊                             | 1500/2400 [17:42<19:58,  1.33s/it]"
     ]
    },
    {
     "name": "stdout",
     "output_type": "stream",
     "text": [
      "Episode 1500, Avg Reward: 120.73, Epsilon: 0.22\n"
     ]
    },
    {
     "name": "stderr",
     "output_type": "stream",
     "text": [
      " 65%|██████████████████████████████████████████████████▍                           | 1550/2400 [18:44<23:23,  1.65s/it]"
     ]
    },
    {
     "name": "stdout",
     "output_type": "stream",
     "text": [
      "Episode 1550, Avg Reward: 148.52, Epsilon: 0.21\n"
     ]
    },
    {
     "name": "stderr",
     "output_type": "stream",
     "text": [
      " 67%|████████████████████████████████████████████████████                          | 1600/2400 [19:57<15:21,  1.15s/it]"
     ]
    },
    {
     "name": "stdout",
     "output_type": "stream",
     "text": [
      "Episode 1600, Avg Reward: 158.59, Epsilon: 0.20\n"
     ]
    },
    {
     "name": "stderr",
     "output_type": "stream",
     "text": [
      " 69%|█████████████████████████████████████████████████████▋                        | 1650/2400 [21:00<12:59,  1.04s/it]"
     ]
    },
    {
     "name": "stdout",
     "output_type": "stream",
     "text": [
      "Episode 1650, Avg Reward: 129.79, Epsilon: 0.19\n"
     ]
    },
    {
     "name": "stderr",
     "output_type": "stream",
     "text": [
      " 71%|███████████████████████████████████████████████████████▎                      | 1700/2400 [21:51<14:39,  1.26s/it]"
     ]
    },
    {
     "name": "stdout",
     "output_type": "stream",
     "text": [
      "Episode 1700, Avg Reward: 143.47, Epsilon: 0.18\n"
     ]
    },
    {
     "name": "stderr",
     "output_type": "stream",
     "text": [
      " 73%|████████████████████████████████████████████████████████▉                     | 1750/2400 [22:45<10:04,  1.08it/s]"
     ]
    },
    {
     "name": "stdout",
     "output_type": "stream",
     "text": [
      "Episode 1750, Avg Reward: 139.49, Epsilon: 0.17\n"
     ]
    },
    {
     "name": "stderr",
     "output_type": "stream",
     "text": [
      " 75%|██████████████████████████████████████████████████████████▌                   | 1800/2400 [24:05<15:07,  1.51s/it]"
     ]
    },
    {
     "name": "stdout",
     "output_type": "stream",
     "text": [
      "Episode 1800, Avg Reward: 142.31, Epsilon: 0.17\n"
     ]
    },
    {
     "name": "stderr",
     "output_type": "stream",
     "text": [
      " 77%|████████████████████████████████████████████████████████████▏                 | 1850/2400 [25:23<21:36,  2.36s/it]"
     ]
    },
    {
     "name": "stdout",
     "output_type": "stream",
     "text": [
      "Episode 1850, Avg Reward: 142.80, Epsilon: 0.16\n"
     ]
    },
    {
     "name": "stderr",
     "output_type": "stream",
     "text": [
      " 79%|█████████████████████████████████████████████████████████████▊                | 1900/2400 [26:37<07:49,  1.07it/s]"
     ]
    },
    {
     "name": "stdout",
     "output_type": "stream",
     "text": [
      "Episode 1900, Avg Reward: 147.65, Epsilon: 0.15\n"
     ]
    },
    {
     "name": "stderr",
     "output_type": "stream",
     "text": [
      " 81%|███████████████████████████████████████████████████████████████▍              | 1950/2400 [27:45<08:49,  1.18s/it]"
     ]
    },
    {
     "name": "stdout",
     "output_type": "stream",
     "text": [
      "Episode 1950, Avg Reward: 142.87, Epsilon: 0.14\n"
     ]
    },
    {
     "name": "stderr",
     "output_type": "stream",
     "text": [
      " 83%|█████████████████████████████████████████████████████████████████             | 2000/2400 [28:42<05:21,  1.24it/s]"
     ]
    },
    {
     "name": "stdout",
     "output_type": "stream",
     "text": [
      "Episode 2000, Avg Reward: 136.29, Epsilon: 0.14\n"
     ]
    },
    {
     "name": "stderr",
     "output_type": "stream",
     "text": [
      " 85%|██████████████████████████████████████████████████████████████████▋           | 2050/2400 [29:32<03:38,  1.60it/s]"
     ]
    },
    {
     "name": "stdout",
     "output_type": "stream",
     "text": [
      "Episode 2050, Avg Reward: 144.66, Epsilon: 0.13\n"
     ]
    },
    {
     "name": "stderr",
     "output_type": "stream",
     "text": [
      " 88%|████████████████████████████████████████████████████████████████████▎         | 2100/2400 [30:12<02:45,  1.81it/s]"
     ]
    },
    {
     "name": "stdout",
     "output_type": "stream",
     "text": [
      "Episode 2100, Avg Reward: 119.49, Epsilon: 0.12\n"
     ]
    },
    {
     "name": "stderr",
     "output_type": "stream",
     "text": [
      " 90%|█████████████████████████████████████████████████████████████████████▉        | 2150/2400 [30:34<01:20,  3.12it/s]"
     ]
    },
    {
     "name": "stdout",
     "output_type": "stream",
     "text": [
      "Episode 2150, Avg Reward: 112.52, Epsilon: 0.12\n"
     ]
    },
    {
     "name": "stderr",
     "output_type": "stream",
     "text": [
      " 92%|███████████████████████████████████████████████████████████████████████▌      | 2200/2400 [30:54<00:59,  3.35it/s]"
     ]
    },
    {
     "name": "stdout",
     "output_type": "stream",
     "text": [
      "Episode 2200, Avg Reward: 103.95, Epsilon: 0.11\n"
     ]
    },
    {
     "name": "stderr",
     "output_type": "stream",
     "text": [
      " 94%|█████████████████████████████████████████████████████████████████████████▏    | 2250/2400 [31:07<00:36,  4.08it/s]"
     ]
    },
    {
     "name": "stdout",
     "output_type": "stream",
     "text": [
      "Episode 2250, Avg Reward: 85.81, Epsilon: 0.11\n"
     ]
    },
    {
     "name": "stderr",
     "output_type": "stream",
     "text": [
      " 96%|██████████████████████████████████████████████████████████████████████████▊   | 2300/2400 [31:29<01:35,  1.05it/s]"
     ]
    },
    {
     "name": "stdout",
     "output_type": "stream",
     "text": [
      "Episode 2300, Avg Reward: 100.81, Epsilon: 0.10\n"
     ]
    },
    {
     "name": "stderr",
     "output_type": "stream",
     "text": [
      " 98%|████████████████████████████████████████████████████████████████████████████▍ | 2350/2400 [31:56<00:13,  3.63it/s]"
     ]
    },
    {
     "name": "stdout",
     "output_type": "stream",
     "text": [
      "Episode 2350, Avg Reward: 113.87, Epsilon: 0.10\n"
     ]
    },
    {
     "name": "stderr",
     "output_type": "stream",
     "text": [
      "100%|██████████████████████████████████████████████████████████████████████████████| 2400/2400 [32:36<00:00,  1.23it/s]"
     ]
    },
    {
     "name": "stdout",
     "output_type": "stream",
     "text": [
      "Episode 2400, Avg Reward: 129.88, Epsilon: 0.09\n"
     ]
    },
    {
     "name": "stderr",
     "output_type": "stream",
     "text": [
      "\n"
     ]
    }
   ],
   "source": [
    "# TRAINING LOOP\n",
    "rewards = []\n",
    "eps = eps_start\n",
    "\n",
    "for ep in tqdm(range(episodes)):\n",
    "    state, _ = env.reset()\n",
    "    total_reward = 0\n",
    "    done = False\n",
    "\n",
    "    while not done:\n",
    "        state_tensor = torch.FloatTensor(state).unsqueeze(0).to(device)\n",
    "        if random.random() < eps:\n",
    "            action = env.action_space.sample()\n",
    "        else:\n",
    "            with torch.no_grad():\n",
    "                q_values = q_net(state_tensor)\n",
    "                action = q_values.argmax().item()\n",
    "\n",
    "        next_state, reward, terminated, truncated, _ = env.step(action)\n",
    "        done = terminated or truncated\n",
    "\n",
    "        # Clip reward\n",
    "        # reward = np.clip(reward, -1.0, 1.0)\n",
    "        reward = np.clip(reward, -10, 10)\n",
    "\n",
    "        buffer.push(state, action, reward, next_state, done)\n",
    "        state = next_state\n",
    "        total_reward += reward\n",
    "\n",
    "        # Only train when buffer is sufficiently filled\n",
    "        if len(buffer) > 1000:\n",
    "            # Sample mini-batch\n",
    "            states, actions, rewards_batch, next_states, dones = buffer.sample(batch_size)\n",
    "\n",
    "            states = torch.FloatTensor(states).to(device)\n",
    "            actions = torch.LongTensor(actions).unsqueeze(1).to(device)\n",
    "            rewards_batch = torch.FloatTensor(rewards_batch).unsqueeze(1).to(device)\n",
    "            next_states = torch.FloatTensor(next_states).to(device)\n",
    "            dones = torch.FloatTensor(dones).unsqueeze(1).to(device)\n",
    "\n",
    "            # Q targets\n",
    "            with torch.no_grad():\n",
    "                target_q = target_net(next_states).max(1, keepdim=True)[0]\n",
    "                target = rewards_batch + (gamma * target_q * (1 - dones))\n",
    "\n",
    "            current_q = q_net(states).gather(1, actions)\n",
    "\n",
    "            # Loss & optimize\n",
    "            # loss = nn.MSELoss()(current_q, target)\n",
    "            loss = nn.SmoothL1Loss()(current_q, target)\n",
    "            optimizer.zero_grad()\n",
    "            loss.backward()\n",
    "\n",
    "            # Clip gradients\n",
    "            torch.nn.utils.clip_grad_norm_(q_net.parameters(), 1.0)\n",
    "\n",
    "            optimizer.step()\n",
    "\n",
    "            # Soft update\n",
    "            soft_update(q_net, target_net, tau)\n",
    "\n",
    "    eps = max(eps_end, eps_decay * eps)\n",
    "    rewards.append(total_reward)\n",
    "\n",
    "    if (ep+1) % 50 == 0:\n",
    "        print(f\"Episode {ep+1}, Avg Reward: {np.mean(rewards[-50:]):.2f}, Epsilon: {eps:.2f}\")"
   ]
  },
  {
   "cell_type": "markdown",
   "id": "34c0de79-12a7-489c-be1e-b0def39042ac",
   "metadata": {},
   "source": [
    "## Visualization\n",
    "\n",
    "- Plots reward per episode\n",
    "\n",
    "- Also shows a smoothed average over the last 50 episodes"
   ]
  },
  {
   "cell_type": "code",
   "execution_count": 45,
   "id": "3926e8e8-66a9-41d6-8a4f-8d63209944e7",
   "metadata": {},
   "outputs": [
    {
     "data": {
      "image/png": "[encoded data removed]",
      "text/plain": [
       "<Figure size 1000x500 with 1 Axes>"
      ]
     },
     "metadata": {},
     "output_type": "display_data"
    }
   ],
   "source": [
    "# VISUALIZATION\n",
    "plt.figure(figsize=(10,5))\n",
    "plt.plot(rewards, label=\"Episode Reward\")\n",
    "plt.plot(np.convolve(rewards, np.ones(50)/50, mode='valid'), label=\"Avg over 50 episodes\", linewidth=2)\n",
    "plt.xlabel(\"Episode\")\n",
    "plt.ylabel(\"Reward\")\n",
    "plt.title(\"DQN Lunar Lander Training\")\n",
    "plt.legend()\n",
    "plt.grid()\n",
    "plt.show()"
   ]
  },
  {
   "cell_type": "markdown",
   "id": "15b61b30-481c-4e43-af39-27ada115fa9c",
   "metadata": {},
   "source": [
    "## Play Function\n",
    "\n",
    "- Lets the trained agent play without exploration\n",
    "\n",
    "- Uses the q_net to select the best action\n",
    "\n",
    "- Renders the environment visually\n",
    "\n",
    "- Shows total reward earned in each episode"
   ]
  },
  {
   "cell_type": "code",
   "execution_count": 46,
   "id": "8df43b5c-c334-420f-9359-2f4c36ffcf0e",
   "metadata": {
    "scrolled": true
   },
   "outputs": [
    {
     "name": "stdout",
     "output_type": "stream",
     "text": [
      "Episode 1 Reward: 240.10743291296916\n",
      "Episode 2 Reward: 246.03374685696483\n",
      "Episode 3 Reward: 120.2279850943359\n",
      "Episode 4 Reward: 281.4993702231069\n",
      "Episode 5 Reward: 147.37552667774162\n"
     ]
    }
   ],
   "source": [
    "# PLAY TRAINED AGENT\n",
    "def play(env, agent, episodes=5):\n",
    "    env = gym.make(\"LunarLander-v2\", render_mode=\"human\")\n",
    "    \n",
    "    for ep in range(episodes):\n",
    "        state, _ = env.reset()\n",
    "        done = False\n",
    "        total_reward = 0\n",
    "        while not done:\n",
    "            state_tensor = torch.FloatTensor(state).unsqueeze(0).to(device)\n",
    "            with torch.no_grad():\n",
    "                action = agent(state_tensor).argmax().item()\n",
    "            next_state, reward, terminated, truncated, _ = env.step(action)\n",
    "            done = terminated or truncated\n",
    "            state = next_state\n",
    "            total_reward += reward\n",
    "        print(f\"Episode {ep+1} Reward: {total_reward}\")\n",
    "    env.close()\n",
    "\n",
    "# Run after training:\n",
    "play(env, q_net)"
   ]
  },
  {
   "cell_type": "code",
   "execution_count": null,
   "id": "9a8d7407-828c-4514-9283-7daac108cc93",
   "metadata": {},
   "outputs": [],
   "source": []
  }
 ],
 "metadata": {
  "kernelspec": {
   "display_name": "Python 3 (ipykernel)",
   "language": "python",
   "name": "python3"
  },
  "language_info": {
   "codemirror_mode": {
    "name": "ipython",
    "version": 3
   },
   "file_extension": ".py",
   "mimetype": "text/x-python",
   "name": "python",
   "nbconvert_exporter": "python",
   "pygments_lexer": "ipython3",
   "version": "3.12.7"
  }
 },
 "nbformat": 4,
 "nbformat_minor": 5
}
